{
 "cells": [
  {
   "cell_type": "code",
   "execution_count": 18,
   "metadata": {},
   "outputs": [],
   "source": [
    "import pandas as pd\n",
    "import numpy as np"
   ]
  },
  {
   "cell_type": "code",
   "execution_count": 19,
   "metadata": {},
   "outputs": [
    {
     "name": "stdout",
     "output_type": "stream",
     "text": [
      "Processed and saved dataset with PM2.5 category to: /home/dang032003/Final-Thesis/Hanoi-PM2.5-dataset/Hanoi_PM2.5_2015_YTD_with_category.csv\n",
      "Processed and saved dataset with PM2.5 category to: /home/dang032003/Final-Thesis/Hanoi-PM2.5-dataset/Hanoi_PM2.5_2016_YTD_with_category.csv\n",
      "Processed and saved dataset with PM2.5 category to: /home/dang032003/Final-Thesis/Hanoi-PM2.5-dataset/Hanoi_PM2.5_2017_YTD_with_category.csv\n",
      "Processed and saved dataset with PM2.5 category to: /home/dang032003/Final-Thesis/Hanoi-PM2.5-dataset/Hanoi_PM2.5_2018_YTD_with_category.csv\n",
      "Processed and saved dataset with PM2.5 category to: /home/dang032003/Final-Thesis/Hanoi-PM2.5-dataset/Hanoi_PM2.5_2019_YTD-(10-2019-12-2019)_with_category.csv\n",
      "Processed and saved dataset with PM2.5 category to: /home/dang032003/Final-Thesis/Hanoi-PM2.5-dataset/Hanoi_PM2.5_2020_YTD_with_category.csv\n",
      "Processed and saved dataset with PM2.5 category to: /home/dang032003/Final-Thesis/Hanoi-PM2.5-dataset/Hanoi_PM2.5_2021_YTD_with_category.csv\n",
      "Processed and saved dataset with PM2.5 category to: /home/dang032003/Final-Thesis/Hanoi-PM2.5-dataset/Hanoi_PM2.5_2022_YTD_with_category.csv\n",
      "Processed and saved dataset with PM2.5 category to: /home/dang032003/Final-Thesis/Hanoi-PM2.5-dataset/Hanoi_PM2.5_2023_YTD_with_category.csv\n",
      "Processed and saved dataset with PM2.5 category to: /home/dang032003/Final-Thesis/Hanoi-PM2.5-dataset/Hanoi_PM2.5_2024_YTD_(01-2024-02-2024)_with_category.csv\n"
     ]
    }
   ],
   "source": [
    "# Define the function to map PM2.5 concentration to category\n",
    "def pm25_category(conc):\n",
    "    if conc <= 12:\n",
    "        return 'Good'\n",
    "    elif 12.1 <= conc <= 35.4:\n",
    "        return 'Moderate'\n",
    "    elif 35.5 <= conc <= 55.4:\n",
    "        return 'Unhealthy for sensitive'\n",
    "    elif 55.5 <= conc <= 150.4:\n",
    "        return 'Unhealthy'\n",
    "    elif 150.5 <= conc <= 250.4:\n",
    "        return 'Very unhealthy'\n",
    "    else:\n",
    "        return 'Hazardous'\n",
    "\n",
    "# Define the dataset paths\n",
    "dataset_paths = [\n",
    "    '/home/dang032003/Final-Thesis/Hanoi-PM2.5-dataset/Hanoi_PM2.5_2015_YTD.csv',\n",
    "    '/home/dang032003/Final-Thesis/Hanoi-PM2.5-dataset/Hanoi_PM2.5_2016_YTD.csv',\n",
    "    '/home/dang032003/Final-Thesis/Hanoi-PM2.5-dataset/Hanoi_PM2.5_2017_YTD.csv',\n",
    "    '/home/dang032003/Final-Thesis/Hanoi-PM2.5-dataset/Hanoi_PM2.5_2018_YTD.csv',\n",
    "    '/home/dang032003/Final-Thesis/Hanoi-PM2.5-dataset/Hanoi_PM2.5_2019_YTD-(10-2019-12-2019).csv',\n",
    "    '/home/dang032003/Final-Thesis/Hanoi-PM2.5-dataset/Hanoi_PM2.5_2020_YTD.csv',\n",
    "    '/home/dang032003/Final-Thesis/Hanoi-PM2.5-dataset/Hanoi_PM2.5_2021_YTD.csv',\n",
    "    '/home/dang032003/Final-Thesis/Hanoi-PM2.5-dataset/Hanoi_PM2.5_2022_YTD.csv',\n",
    "    '/home/dang032003/Final-Thesis/Hanoi-PM2.5-dataset/Hanoi_PM2.5_2023_YTD.csv',\n",
    "    '/home/dang032003/Final-Thesis/Hanoi-PM2.5-dataset/Hanoi_PM2.5_2024_YTD_(01-2024-02-2024).csv'\n",
    "]\n",
    "\n",
    "# Iterate over each dataset\n",
    "for dataset_path in dataset_paths:\n",
    "    # Read the dataset\n",
    "    df = pd.read_csv(dataset_path)\n",
    "    \n",
    "    # Convert 'Date (LT)' column to datetime\n",
    "    df['Date (LT)'] = pd.to_datetime(df['Date (LT)'])\n",
    "    \n",
    "    # Replace -999 with NaN\n",
    "    df['Raw Conc.'] = df['Raw Conc.'].replace(-999, np.nan)\n",
    "    \n",
    "    # Interpolate missing values in 'Raw Conc.' column\n",
    "    interpolation_method = 'linear'\n",
    "    df['Raw Conc.'] = df['Raw Conc.'].interpolate(method=interpolation_method)\n",
    "    \n",
    "    # Apply the function to create the 'PM2.5 Category' column\n",
    "    df['PM2.5 Category'] = df['Raw Conc.'].apply(pm25_category)\n",
    "    \n",
    "    # Save the processed dataset\n",
    "    output_path = dataset_path.replace('.csv', '_with_category.csv')\n",
    "    df.to_csv(output_path, index=False)\n",
    "    print(f\"Processed and saved dataset with PM2.5 category to: {output_path}\")"
   ]
  },
  {
   "cell_type": "code",
   "execution_count": null,
   "metadata": {},
   "outputs": [],
   "source": []
  }
 ],
 "metadata": {
  "kernelspec": {
   "display_name": "data_visualization",
   "language": "python",
   "name": "python3"
  },
  "language_info": {
   "codemirror_mode": {
    "name": "ipython",
    "version": 3
   },
   "file_extension": ".py",
   "mimetype": "text/x-python",
   "name": "python",
   "nbconvert_exporter": "python",
   "pygments_lexer": "ipython3",
   "version": "3.10.13"
  }
 },
 "nbformat": 4,
 "nbformat_minor": 2
}
