{
 "cells": [
  {
   "cell_type": "code",
   "execution_count": 1,
   "metadata": {
    "metadata": {}
   },
   "outputs": [
    {
     "name": "stderr",
     "output_type": "stream",
     "text": [
      "<frozen importlib._bootstrap>:241: RuntimeWarning: numpy.ndarray size changed, may indicate binary incompatibility. Expected 16 from C header, got 96 from PyObject\n",
      "<frozen importlib._bootstrap>:241: RuntimeWarning: numpy.ndarray size changed, may indicate binary incompatibility. Expected 88 from C header, got 96 from PyObject\n"
     ]
    }
   ],
   "source": [
    "import xarray as xr\n",
    "import rioxarray\n",
    "import matplotlib.pyplot as plt\n",
    "from netCDF4 import Dataset\n",
    "import numpy as np\n",
    "from mpl_toolkits.basemap import Basemap"
   ]
  },
  {
   "cell_type": "code",
   "execution_count": 2,
   "metadata": {
    "metadata": {}
   },
   "outputs": [],
   "source": [
    "data = Dataset('/home/dang032003/Final-Thesis/2024042300.nc')\n"
   ]
  },
  {
   "cell_type": "code",
   "execution_count": 3,
   "metadata": {
    "metadata": {}
   },
   "outputs": [
    {
     "data": {
      "text/plain": [
       "dict_keys(['lon', 'lat', 'lev', 'lev_o3', 'lev_soil', 'time', 'terrain', 'landsea_mask', 'rain', 'cloud', 't2m', 'q2m', 'u10m', 'v10m', 'ps', 'pmsl', 'ts', 'wsnow', 'w850', 'w700', 'nswflux', 'nlwflux', 'olr', 'tsoil', 'wsoil', 'o3', 'h', 'u', 'v', 't', 'q', 'qc'])"
      ]
     },
     "execution_count": 3,
     "metadata": {},
     "output_type": "execute_result"
    }
   ],
   "source": [
    "data.variables.keys()"
   ]
  },
  {
   "cell_type": "code",
   "execution_count": 4,
   "metadata": {
    "metadata": {}
   },
   "outputs": [],
   "source": [
    "lat = data.variables['lat'][:]\n",
    "lon = data.variables['lon'][:]\n",
    "time = data.variables['time'][:]\n",
    "rain = data.variables['rain'][:]\n",
    "temp = data.variables['t'][:]\n",
    "hum = data.variables['q'][:]\n",
    "eastward_wind = data.variables['u'][:]\n",
    "northward_wind = data.variables['v'][:]\n",
    "ozone_conc = data.variables['o3'][:]\n",
    "pressure = data.variables['ps'][:]\n",
    "cloud = data.variables['cloud'][:]"
   ]
  },
  {
   "cell_type": "code",
   "execution_count": 5,
   "metadata": {
    "metadata": {}
   },
   "outputs": [
    {
     "name": "stdout",
     "output_type": "stream",
     "text": [
      "<xarray.Dataset>\n",
      "Dimensions:       (lon: 191, lat: 151, lev: 26, lev_o3: 6, lev_soil: 4, time: 29)\n",
      "Coordinates:\n",
      "  * lon           (lon) float32 60.0 60.5 61.0 61.5 ... 153.5 154.0 154.5 155.0\n",
      "  * lat           (lat) float32 -15.0 -14.5 -14.0 -13.5 ... 58.5 59.0 59.5 60.0\n",
      "  * lev           (lev) int16 1000 975 950 925 900 850 ... 100 70 50 30 20 10\n",
      "  * lev_o3        (lev_o3) int16 100 70 50 30 20 10\n",
      "  * lev_soil      (lev_soil) int16 0 10 40 100\n",
      "  * time          (time) datetime64[ns] 2024-04-23 ... 2024-04-26T12:00:00\n",
      "Data variables: (12/26)\n",
      "    terrain       (lat, lon) float64 ...\n",
      "    landsea_mask  (lat, lon) float64 ...\n",
      "    rain          (time, lat, lon) float64 ...\n",
      "    cloud         (time, lat, lon) float64 ...\n",
      "    t2m           (time, lat, lon) float64 ...\n",
      "    q2m           (time, lat, lon) float64 ...\n",
      "    ...            ...\n",
      "    h             (time, lev, lat, lon) float64 ...\n",
      "    u             (time, lev, lat, lon) float64 ...\n",
      "    v             (time, lev, lat, lon) float64 ...\n",
      "    t             (time, lev, lat, lon) float64 ...\n",
      "    q             (time, lev, lat, lon) float64 ...\n",
      "    qc            (time, lev, lat, lon) float64 ...\n",
      "Attributes:\n",
      "    Conventions:  COARDS\n",
      "    Model:        GFS\n"
     ]
    }
   ],
   "source": [
    "ds = xr.open_dataset('/home/dang032003/Final-Thesis/2024042300.nc')\n",
    "print(ds)"
   ]
  },
  {
   "cell_type": "code",
   "execution_count": 6,
   "metadata": {
    "metadata": {}
   },
   "outputs": [],
   "source": [
    "rain_data = ds['rain']\n",
    "rain_at_timestep0 = rain_data.sel(time=ds['time'].values[0])  # Get rain at the first time step"
   ]
  },
  {
   "cell_type": "code",
   "execution_count": 7,
   "metadata": {
    "metadata": {}
   },
   "outputs": [
    {
     "name": "stdout",
     "output_type": "stream",
     "text": [
      "<xarray.DataArray 'rain' (time: 29, lat: 151, lon: 191)>\n",
      "[836389 values with dtype=float64]\n",
      "Coordinates:\n",
      "  * lon      (lon) float32 60.0 60.5 61.0 61.5 62.0 ... 153.5 154.0 154.5 155.0\n",
      "  * lat      (lat) float32 -15.0 -14.5 -14.0 -13.5 -13.0 ... 58.5 59.0 59.5 60.0\n",
      "  * time     (time) datetime64[ns] 2024-04-23 ... 2024-04-26T12:00:00\n",
      "Attributes:\n",
      "    units:    mm\n"
     ]
    }
   ],
   "source": [
    "print(rain_data)"
   ]
  },
  {
   "cell_type": "code",
   "execution_count": 8,
   "metadata": {
    "metadata": {}
   },
   "outputs": [],
   "source": [
    "# Example: Extract data for Hanoi region over all timesteps\n",
    "hanoi_lon = 106  \n",
    "hanoi_lat = 21\n",
    "rain_hn = ds['rain'].sel(lon=hanoi_lon, lat=hanoi_lat, method='nearest') \n",
    "rain_hn_df = rain_hn.to_dataframe()\n",
    "temp_hn = ds['t'].sel(lon=hanoi_lon, lat=hanoi_lat, lev=1000, method='nearest')\n",
    "temp_hn_df = temp_hn.to_dataframe()\n",
    "hum_hn = ds['q'].sel(lon=hanoi_lon, lat=hanoi_lat, lev=1000, method='nearest')\n",
    "hum_hn_df = hum_hn.to_dataframe()\n",
    "eastward_wind_hn = ds['u'].sel(lon=hanoi_lon, lat=hanoi_lat, lev=1000, method='nearest')\n",
    "eastward_wind_hn_df = eastward_wind_hn.to_dataframe()\n",
    "northward_wind_hn = ds['v'].sel(lon=hanoi_lon, lat=hanoi_lat, lev=1000, method='nearest')\n",
    "northward_wind_hn_df = northward_wind_hn.to_dataframe()\n",
    "ozone_conc_hn = ds['o3'].sel(lon=hanoi_lon, lat=hanoi_lat, lev_o3=1000, method='nearest')\n",
    "ozone_conc_hn_df = ozone_conc_hn.to_dataframe()\n",
    "pressure_hn = ds['ps'].sel(lon=hanoi_lon, lat=hanoi_lat, method='nearest')\n",
    "pressure_hn_df = pressure_hn.to_dataframe()\n",
    "\n"
   ]
  },
  {
   "cell_type": "code",
   "execution_count": 9,
   "metadata": {
    "metadata": {}
   },
   "outputs": [
    {
     "name": "stdout",
     "output_type": "stream",
     "text": [
      "                       lon   lat  rain\n",
      "time                                  \n",
      "2024-04-23 00:00:00  106.0  21.0   0.0\n",
      "2024-04-23 03:00:00  106.0  21.0   0.5\n",
      "2024-04-23 06:00:00  106.0  21.0   1.3\n",
      "2024-04-23 09:00:00  106.0  21.0   1.8\n",
      "2024-04-23 12:00:00  106.0  21.0   2.8\n",
      "2024-04-23 15:00:00  106.0  21.0   4.3\n",
      "2024-04-23 18:00:00  106.0  21.0   6.0\n",
      "2024-04-23 21:00:00  106.0  21.0   6.8\n",
      "2024-04-24 00:00:00  106.0  21.0   8.0\n",
      "2024-04-24 03:00:00  106.0  21.0   8.9\n",
      "2024-04-24 06:00:00  106.0  21.0   9.1\n",
      "2024-04-24 09:00:00  106.0  21.0  10.6\n",
      "2024-04-24 12:00:00  106.0  21.0  11.0\n",
      "2024-04-24 15:00:00  106.0  21.0  12.6\n",
      "2024-04-24 18:00:00  106.0  21.0  12.8\n",
      "2024-04-24 21:00:00  106.0  21.0  13.0\n",
      "2024-04-25 00:00:00  106.0  21.0  16.6\n",
      "2024-04-25 03:00:00  106.0  21.0  16.6\n",
      "2024-04-25 06:00:00  106.0  21.0  16.6\n",
      "2024-04-25 09:00:00  106.0  21.0  16.6\n",
      "2024-04-25 12:00:00  106.0  21.0  17.9\n",
      "2024-04-25 15:00:00  106.0  21.0  17.9\n",
      "2024-04-25 18:00:00  106.0  21.0  17.9\n",
      "2024-04-25 21:00:00  106.0  21.0  17.9\n",
      "2024-04-26 00:00:00  106.0  21.0  17.9\n",
      "2024-04-26 03:00:00  106.0  21.0  17.9\n",
      "2024-04-26 06:00:00  106.0  21.0  17.9\n",
      "2024-04-26 09:00:00  106.0  21.0  17.9\n",
      "2024-04-26 12:00:00  106.0  21.0  17.9\n"
     ]
    }
   ],
   "source": [
    "print(rain_hn_df)"
   ]
  },
  {
   "cell_type": "code",
   "execution_count": 10,
   "metadata": {
    "metadata": {}
   },
   "outputs": [
    {
     "name": "stdout",
     "output_type": "stream",
     "text": [
      "                       lon   lat   lev           t\n",
      "time                                              \n",
      "2024-04-23 00:00:00  106.0  21.0  1000  298.949993\n",
      "2024-04-23 03:00:00  106.0  21.0  1000  300.099993\n",
      "2024-04-23 06:00:00  106.0  21.0  1000  301.399993\n",
      "2024-04-23 09:00:00  106.0  21.0  1000  300.119993\n",
      "2024-04-23 12:00:00  106.0  21.0  1000  298.729993\n",
      "2024-04-23 15:00:00  106.0  21.0  1000  298.219993\n",
      "2024-04-23 18:00:00  106.0  21.0  1000  297.149993\n",
      "2024-04-23 21:00:00  106.0  21.0  1000  296.799993\n",
      "2024-04-24 00:00:00  106.0  21.0  1000  296.729993\n",
      "2024-04-24 03:00:00  106.0  21.0  1000  298.809993\n",
      "2024-04-24 06:00:00  106.0  21.0  1000  304.779993\n",
      "2024-04-24 09:00:00  106.0  21.0  1000  303.229993\n",
      "2024-04-24 12:00:00  106.0  21.0  1000  299.189993\n",
      "2024-04-24 15:00:00  106.0  21.0  1000  296.549993\n",
      "2024-04-24 18:00:00  106.0  21.0  1000  295.999993\n",
      "2024-04-24 21:00:00  106.0  21.0  1000  296.319993\n",
      "2024-04-25 00:00:00  106.0  21.0  1000  296.259993\n",
      "2024-04-25 03:00:00  106.0  21.0  1000  301.069993\n",
      "2024-04-25 06:00:00  106.0  21.0  1000  306.449993\n",
      "2024-04-25 09:00:00  106.0  21.0  1000  305.599993\n",
      "2024-04-25 12:00:00  106.0  21.0  1000  299.599993\n",
      "2024-04-25 15:00:00  106.0  21.0  1000  298.819993\n",
      "2024-04-25 18:00:00  106.0  21.0  1000  297.529993\n",
      "2024-04-25 21:00:00  106.0  21.0  1000  297.809993\n",
      "2024-04-26 00:00:00  106.0  21.0  1000  298.869993\n",
      "2024-04-26 03:00:00  106.0  21.0  1000  302.569993\n",
      "2024-04-26 06:00:00  106.0  21.0  1000  308.379993\n",
      "2024-04-26 09:00:00  106.0  21.0  1000  309.229993\n",
      "2024-04-26 12:00:00  106.0  21.0  1000  301.789993\n"
     ]
    }
   ],
   "source": [
    "print(temp_hn_df)"
   ]
  },
  {
   "cell_type": "code",
   "execution_count": 11,
   "metadata": {
    "metadata": {}
   },
   "outputs": [
    {
     "name": "stdout",
     "output_type": "stream",
     "text": [
      "                       lon   lat   lev       q\n",
      "time                                          \n",
      "2024-04-23 00:00:00  106.0  21.0  1000  19.411\n",
      "2024-04-23 03:00:00  106.0  21.0  1000  18.890\n",
      "2024-04-23 06:00:00  106.0  21.0  1000  19.011\n",
      "2024-04-23 09:00:00  106.0  21.0  1000  16.879\n",
      "2024-04-23 12:00:00  106.0  21.0  1000  15.971\n",
      "2024-04-23 15:00:00  106.0  21.0  1000  16.381\n",
      "2024-04-23 18:00:00  106.0  21.0  1000  17.136\n",
      "2024-04-23 21:00:00  106.0  21.0  1000  16.992\n",
      "2024-04-24 00:00:00  106.0  21.0  1000  17.092\n",
      "2024-04-24 03:00:00  106.0  21.0  1000  17.643\n",
      "2024-04-24 06:00:00  106.0  21.0  1000  16.526\n",
      "2024-04-24 09:00:00  106.0  21.0  1000  18.250\n",
      "2024-04-24 12:00:00  106.0  21.0  1000  18.625\n",
      "2024-04-24 15:00:00  106.0  21.0  1000  15.150\n",
      "2024-04-24 18:00:00  106.0  21.0  1000  15.036\n",
      "2024-04-24 21:00:00  106.0  21.0  1000  15.764\n",
      "2024-04-25 00:00:00  106.0  21.0  1000  16.214\n",
      "2024-04-25 03:00:00  106.0  21.0  1000  18.023\n",
      "2024-04-25 06:00:00  106.0  21.0  1000  17.518\n",
      "2024-04-25 09:00:00  106.0  21.0  1000  18.991\n",
      "2024-04-25 12:00:00  106.0  21.0  1000  17.860\n",
      "2024-04-25 15:00:00  106.0  21.0  1000  15.874\n",
      "2024-04-25 18:00:00  106.0  21.0  1000  17.224\n",
      "2024-04-25 21:00:00  106.0  21.0  1000  18.506\n",
      "2024-04-26 00:00:00  106.0  21.0  1000  19.258\n",
      "2024-04-26 03:00:00  106.0  21.0  1000  18.369\n",
      "2024-04-26 06:00:00  106.0  21.0  1000  17.176\n",
      "2024-04-26 09:00:00  106.0  21.0  1000  17.209\n",
      "2024-04-26 12:00:00  106.0  21.0  1000  19.274\n"
     ]
    }
   ],
   "source": [
    "print(hum_hn_df)"
   ]
  },
  {
   "cell_type": "code",
   "execution_count": 12,
   "metadata": {
    "metadata": {}
   },
   "outputs": [
    {
     "name": "stdout",
     "output_type": "stream",
     "text": [
      "                       lon   lat   lev     u\n",
      "time                                        \n",
      "2024-04-23 00:00:00  106.0  21.0  1000 -4.07\n",
      "2024-04-23 03:00:00  106.0  21.0  1000 -3.60\n",
      "2024-04-23 06:00:00  106.0  21.0  1000 -3.41\n",
      "2024-04-23 09:00:00  106.0  21.0  1000 -3.98\n",
      "2024-04-23 12:00:00  106.0  21.0  1000 -1.98\n",
      "2024-04-23 15:00:00  106.0  21.0  1000 -0.80\n",
      "2024-04-23 18:00:00  106.0  21.0  1000  0.91\n",
      "2024-04-23 21:00:00  106.0  21.0  1000 -0.26\n",
      "2024-04-24 00:00:00  106.0  21.0  1000 -0.67\n",
      "2024-04-24 03:00:00  106.0  21.0  1000 -0.10\n",
      "2024-04-24 06:00:00  106.0  21.0  1000 -2.17\n",
      "2024-04-24 09:00:00  106.0  21.0  1000 -2.45\n",
      "2024-04-24 12:00:00  106.0  21.0  1000 -2.36\n",
      "2024-04-24 15:00:00  106.0  21.0  1000  1.08\n",
      "2024-04-24 18:00:00  106.0  21.0  1000  1.11\n",
      "2024-04-24 21:00:00  106.0  21.0  1000 -0.23\n",
      "2024-04-25 00:00:00  106.0  21.0  1000 -2.81\n",
      "2024-04-25 03:00:00  106.0  21.0  1000  0.15\n",
      "2024-04-25 06:00:00  106.0  21.0  1000 -0.22\n",
      "2024-04-25 09:00:00  106.0  21.0  1000 -3.88\n",
      "2024-04-25 12:00:00  106.0  21.0  1000 -0.69\n",
      "2024-04-25 15:00:00  106.0  21.0  1000 -1.33\n",
      "2024-04-25 18:00:00  106.0  21.0  1000 -2.01\n",
      "2024-04-25 21:00:00  106.0  21.0  1000 -2.32\n",
      "2024-04-26 00:00:00  106.0  21.0  1000 -1.69\n",
      "2024-04-26 03:00:00  106.0  21.0  1000 -0.63\n",
      "2024-04-26 06:00:00  106.0  21.0  1000  1.28\n",
      "2024-04-26 09:00:00  106.0  21.0  1000 -3.11\n",
      "2024-04-26 12:00:00  106.0  21.0  1000 -1.34\n"
     ]
    }
   ],
   "source": [
    "print(eastward_wind_hn_df)"
   ]
  },
  {
   "cell_type": "code",
   "execution_count": 13,
   "metadata": {
    "metadata": {}
   },
   "outputs": [
    {
     "name": "stdout",
     "output_type": "stream",
     "text": [
      "                       lon   lat   lev     v\n",
      "time                                        \n",
      "2024-04-23 00:00:00  106.0  21.0  1000  1.34\n",
      "2024-04-23 03:00:00  106.0  21.0  1000  0.61\n",
      "2024-04-23 06:00:00  106.0  21.0  1000 -1.78\n",
      "2024-04-23 09:00:00  106.0  21.0  1000 -4.94\n",
      "2024-04-23 12:00:00  106.0  21.0  1000 -4.01\n",
      "2024-04-23 15:00:00  106.0  21.0  1000  0.74\n",
      "2024-04-23 18:00:00  106.0  21.0  1000  0.53\n",
      "2024-04-23 21:00:00  106.0  21.0  1000 -0.63\n",
      "2024-04-24 00:00:00  106.0  21.0  1000 -1.19\n",
      "2024-04-24 03:00:00  106.0  21.0  1000  0.60\n",
      "2024-04-24 06:00:00  106.0  21.0  1000  4.96\n",
      "2024-04-24 09:00:00  106.0  21.0  1000  5.08\n",
      "2024-04-24 12:00:00  106.0  21.0  1000  3.44\n",
      "2024-04-24 15:00:00  106.0  21.0  1000  2.83\n",
      "2024-04-24 18:00:00  106.0  21.0  1000 -2.12\n",
      "2024-04-24 21:00:00  106.0  21.0  1000 -0.93\n",
      "2024-04-25 00:00:00  106.0  21.0  1000  3.01\n",
      "2024-04-25 03:00:00  106.0  21.0  1000  4.25\n",
      "2024-04-25 06:00:00  106.0  21.0  1000  4.37\n",
      "2024-04-25 09:00:00  106.0  21.0  1000  6.10\n",
      "2024-04-25 12:00:00  106.0  21.0  1000  5.20\n",
      "2024-04-25 15:00:00  106.0  21.0  1000  5.28\n",
      "2024-04-25 18:00:00  106.0  21.0  1000  2.14\n",
      "2024-04-25 21:00:00  106.0  21.0  1000  0.63\n",
      "2024-04-26 00:00:00  106.0  21.0  1000  1.12\n",
      "2024-04-26 03:00:00  106.0  21.0  1000  1.04\n",
      "2024-04-26 06:00:00  106.0  21.0  1000  1.04\n",
      "2024-04-26 09:00:00  106.0  21.0  1000  3.41\n",
      "2024-04-26 12:00:00  106.0  21.0  1000  3.29\n"
     ]
    }
   ],
   "source": [
    "print(northward_wind_hn_df)"
   ]
  },
  {
   "cell_type": "code",
   "execution_count": 14,
   "metadata": {
    "metadata": {}
   },
   "outputs": [
    {
     "name": "stdout",
     "output_type": "stream",
     "text": [
      "                       lon   lat  lev_o3      o3\n",
      "time                                            \n",
      "2024-04-23 00:00:00  106.0  21.0     100  0.0002\n",
      "2024-04-23 03:00:00  106.0  21.0     100  0.0003\n",
      "2024-04-23 06:00:00  106.0  21.0     100  0.0002\n",
      "2024-04-23 09:00:00  106.0  21.0     100  0.0002\n",
      "2024-04-23 12:00:00  106.0  21.0     100  0.0002\n",
      "2024-04-23 15:00:00  106.0  21.0     100  0.0002\n",
      "2024-04-23 18:00:00  106.0  21.0     100  0.0002\n",
      "2024-04-23 21:00:00  106.0  21.0     100  0.0002\n",
      "2024-04-24 00:00:00  106.0  21.0     100  0.0002\n",
      "2024-04-24 03:00:00  106.0  21.0     100  0.0002\n",
      "2024-04-24 06:00:00  106.0  21.0     100  0.0002\n",
      "2024-04-24 09:00:00  106.0  21.0     100  0.0002\n",
      "2024-04-24 12:00:00  106.0  21.0     100  0.0002\n",
      "2024-04-24 15:00:00  106.0  21.0     100  0.0002\n",
      "2024-04-24 18:00:00  106.0  21.0     100  0.0002\n",
      "2024-04-24 21:00:00  106.0  21.0     100  0.0002\n",
      "2024-04-25 00:00:00  106.0  21.0     100  0.0002\n",
      "2024-04-25 03:00:00  106.0  21.0     100  0.0002\n",
      "2024-04-25 06:00:00  106.0  21.0     100  0.0002\n",
      "2024-04-25 09:00:00  106.0  21.0     100  0.0002\n",
      "2024-04-25 12:00:00  106.0  21.0     100  0.0002\n",
      "2024-04-25 15:00:00  106.0  21.0     100  0.0002\n",
      "2024-04-25 18:00:00  106.0  21.0     100  0.0002\n",
      "2024-04-25 21:00:00  106.0  21.0     100  0.0002\n",
      "2024-04-26 00:00:00  106.0  21.0     100  0.0002\n",
      "2024-04-26 03:00:00  106.0  21.0     100  0.0002\n",
      "2024-04-26 06:00:00  106.0  21.0     100  0.0002\n",
      "2024-04-26 09:00:00  106.0  21.0     100  0.0002\n",
      "2024-04-26 12:00:00  106.0  21.0     100  0.0002\n"
     ]
    }
   ],
   "source": [
    "print(ozone_conc_hn_df)"
   ]
  },
  {
   "cell_type": "code",
   "execution_count": 15,
   "metadata": {
    "metadata": {}
   },
   "outputs": [
    {
     "name": "stdout",
     "output_type": "stream",
     "text": [
      "                       lon   lat           ps\n",
      "time                                         \n",
      "2024-04-23 00:00:00  106.0  21.0  1005.999994\n",
      "2024-04-23 03:00:00  106.0  21.0  1007.349994\n",
      "2024-04-23 06:00:00  106.0  21.0  1005.629994\n",
      "2024-04-23 09:00:00  106.0  21.0  1003.269994\n",
      "2024-04-23 12:00:00  106.0  21.0  1004.739994\n",
      "2024-04-23 15:00:00  106.0  21.0  1007.149994\n",
      "2024-04-23 18:00:00  106.0  21.0  1005.929994\n",
      "2024-04-23 21:00:00  106.0  21.0  1004.969994\n",
      "2024-04-24 00:00:00  106.0  21.0  1006.659994\n",
      "2024-04-24 03:00:00  106.0  21.0  1007.479994\n",
      "2024-04-24 06:00:00  106.0  21.0  1003.429994\n",
      "2024-04-24 09:00:00  106.0  21.0  1001.779994\n",
      "2024-04-24 12:00:00  106.0  21.0  1003.879994\n",
      "2024-04-24 15:00:00  106.0  21.0  1005.239994\n",
      "2024-04-24 18:00:00  106.0  21.0  1005.089994\n",
      "2024-04-24 21:00:00  106.0  21.0  1004.089994\n",
      "2024-04-25 00:00:00  106.0  21.0  1004.859994\n",
      "2024-04-25 03:00:00  106.0  21.0  1004.759994\n",
      "2024-04-25 06:00:00  106.0  21.0  1001.329994\n",
      "2024-04-25 09:00:00  106.0  21.0   999.779994\n",
      "2024-04-25 12:00:00  106.0  21.0  1000.859994\n",
      "2024-04-25 15:00:00  106.0  21.0  1001.809994\n",
      "2024-04-25 18:00:00  106.0  21.0  1000.739994\n",
      "2024-04-25 21:00:00  106.0  21.0  1000.229994\n",
      "2024-04-26 00:00:00  106.0  21.0  1002.129994\n",
      "2024-04-26 03:00:00  106.0  21.0  1001.999994\n",
      "2024-04-26 06:00:00  106.0  21.0   998.559994\n",
      "2024-04-26 09:00:00  106.0  21.0   995.109995\n",
      "2024-04-26 12:00:00  106.0  21.0   997.909994\n"
     ]
    }
   ],
   "source": [
    "print(pressure_hn_df)"
   ]
  },
  {
   "cell_type": "code",
   "execution_count": 16,
   "metadata": {
    "metadata": {}
   },
   "outputs": [
    {
     "data": {
      "image/png": "[encoded data removed]",
      "text/plain": [
       "<Figure size 1000x600 with 1 Axes>"
      ]
     },
     "metadata": {},
     "output_type": "display_data"
    }
   ],
   "source": [
    "plt.figure(figsize=(10, 6)) \n",
    "plt.plot(rain_hn_df.index, rain_hn_df['rain'])  # Plot using the index\n",
    "\n",
    "# Labels, Title, and Formatting\n",
    "plt.xlabel('Time')\n",
    "plt.ylabel('Rainfall (mm)') # Or your appropriate units\n",
    "plt.title('Rainfall Time Series for Hanoi')\n",
    "\n",
    "# Rotate x-axis labels for readability if needed\n",
    "plt.xticks(rotation=45) \n",
    "\n",
    "# Ensure a tight layout\n",
    "plt.tight_layout()\n",
    "\n",
    "plt.show()\n"
   ]
  },
  {
   "cell_type": "code",
   "execution_count": 17,
   "metadata": {
    "metadata": {}
   },
   "outputs": [
    {
     "name": "stdout",
     "output_type": "stream",
     "text": [
      "lon     106.0\n",
      "lat      21.0\n",
      "rain      0.5\n",
      "Name: 2024-04-23 03:00:00, dtype: float64\n"
     ]
    }
   ],
   "source": [
    "rain_hn_data = rain_hn_df.iloc[1]\n",
    "print(rain_hn_data)"
   ]
  },
  {
   "cell_type": "code",
   "execution_count": 18,
   "metadata": {
    "metadata": {}
   },
   "outputs": [
    {
     "name": "stdout",
     "output_type": "stream",
     "text": [
      "                  time    lon   lat  rain  lev_x           t  lev_y       q  \\\n",
      "0  2024-04-23 00:00:00  106.0  21.0   0.0   1000  298.949993   1000  19.411   \n",
      "1  2024-04-23 03:00:00  106.0  21.0   0.5   1000  300.099993   1000  18.890   \n",
      "2  2024-04-23 06:00:00  106.0  21.0   1.3   1000  301.399993   1000  19.011   \n",
      "3  2024-04-23 09:00:00  106.0  21.0   1.8   1000  300.119993   1000  16.879   \n",
      "4  2024-04-23 12:00:00  106.0  21.0   2.8   1000  298.729993   1000  15.971   \n",
      "5  2024-04-23 15:00:00  106.0  21.0   4.3   1000  298.219993   1000  16.381   \n",
      "6  2024-04-23 18:00:00  106.0  21.0   6.0   1000  297.149993   1000  17.136   \n",
      "7  2024-04-23 21:00:00  106.0  21.0   6.8   1000  296.799993   1000  16.992   \n",
      "8  2024-04-24 00:00:00  106.0  21.0   8.0   1000  296.729993   1000  17.092   \n",
      "9  2024-04-24 03:00:00  106.0  21.0   8.9   1000  298.809993   1000  17.643   \n",
      "10 2024-04-24 06:00:00  106.0  21.0   9.1   1000  304.779993   1000  16.526   \n",
      "11 2024-04-24 09:00:00  106.0  21.0  10.6   1000  303.229993   1000  18.250   \n",
      "12 2024-04-24 12:00:00  106.0  21.0  11.0   1000  299.189993   1000  18.625   \n",
      "13 2024-04-24 15:00:00  106.0  21.0  12.6   1000  296.549993   1000  15.150   \n",
      "14 2024-04-24 18:00:00  106.0  21.0  12.8   1000  295.999993   1000  15.036   \n",
      "15 2024-04-24 21:00:00  106.0  21.0  13.0   1000  296.319993   1000  15.764   \n",
      "16 2024-04-25 00:00:00  106.0  21.0  16.6   1000  296.259993   1000  16.214   \n",
      "17 2024-04-25 03:00:00  106.0  21.0  16.6   1000  301.069993   1000  18.023   \n",
      "18 2024-04-25 06:00:00  106.0  21.0  16.6   1000  306.449993   1000  17.518   \n",
      "19 2024-04-25 09:00:00  106.0  21.0  16.6   1000  305.599993   1000  18.991   \n",
      "20 2024-04-25 12:00:00  106.0  21.0  17.9   1000  299.599993   1000  17.860   \n",
      "21 2024-04-25 15:00:00  106.0  21.0  17.9   1000  298.819993   1000  15.874   \n",
      "22 2024-04-25 18:00:00  106.0  21.0  17.9   1000  297.529993   1000  17.224   \n",
      "23 2024-04-25 21:00:00  106.0  21.0  17.9   1000  297.809993   1000  18.506   \n",
      "24 2024-04-26 00:00:00  106.0  21.0  17.9   1000  298.869993   1000  19.258   \n",
      "25 2024-04-26 03:00:00  106.0  21.0  17.9   1000  302.569993   1000  18.369   \n",
      "26 2024-04-26 06:00:00  106.0  21.0  17.9   1000  308.379993   1000  17.176   \n",
      "27 2024-04-26 09:00:00  106.0  21.0  17.9   1000  309.229993   1000  17.209   \n",
      "28 2024-04-26 12:00:00  106.0  21.0  17.9   1000  301.789993   1000  19.274   \n",
      "\n",
      "    lev_o3      o3           ps  \n",
      "0      100  0.0002  1005.999994  \n",
      "1      100  0.0003  1007.349994  \n",
      "2      100  0.0002  1005.629994  \n",
      "3      100  0.0002  1003.269994  \n",
      "4      100  0.0002  1004.739994  \n",
      "5      100  0.0002  1007.149994  \n",
      "6      100  0.0002  1005.929994  \n",
      "7      100  0.0002  1004.969994  \n",
      "8      100  0.0002  1006.659994  \n",
      "9      100  0.0002  1007.479994  \n",
      "10     100  0.0002  1003.429994  \n",
      "11     100  0.0002  1001.779994  \n",
      "12     100  0.0002  1003.879994  \n",
      "13     100  0.0002  1005.239994  \n",
      "14     100  0.0002  1005.089994  \n",
      "15     100  0.0002  1004.089994  \n",
      "16     100  0.0002  1004.859994  \n",
      "17     100  0.0002  1004.759994  \n",
      "18     100  0.0002  1001.329994  \n",
      "19     100  0.0002   999.779994  \n",
      "20     100  0.0002  1000.859994  \n",
      "21     100  0.0002  1001.809994  \n",
      "22     100  0.0002  1000.739994  \n",
      "23     100  0.0002  1000.229994  \n",
      "24     100  0.0002  1002.129994  \n",
      "25     100  0.0002  1001.999994  \n",
      "26     100  0.0002   998.559994  \n",
      "27     100  0.0002   995.109995  \n",
      "28     100  0.0002   997.909994  \n"
     ]
    }
   ],
   "source": [
    "import pandas as pd\n",
    "\n",
    "# Base dataframe with 'time', 'lon', 'lat'\n",
    "base_df = rain_hn_df.reset_index()\n",
    "\n",
    "# Combine all the dataframes using 'time', 'lon', 'lat' as keys\n",
    "all_data_df = base_df\n",
    "all_data_df = all_data_df.merge(temp_hn_df.reset_index(), on=['time', 'lon', 'lat'], how='outer')\n",
    "all_data_df = all_data_df.merge(hum_hn_df.reset_index(), on=['time', 'lon', 'lat'], how='outer')\n",
    "all_data_df = all_data_df.merge(ozone_conc_hn_df.reset_index(), on=['time', 'lon', 'lat'], how='outer')\n",
    "all_data_df = all_data_df.merge(pressure_hn_df.reset_index(), on=['time', 'lon', 'lat'], how='outer')\n",
    "\n",
    "# Sort by time if needed\n",
    "all_data_df = all_data_df.sort_values(by='time')\n",
    "\n",
    "# Print or analyze the combined dataframe\n",
    "print(all_data_df)\n"
   ]
  },
  {
   "cell_type": "code",
   "execution_count": 19,
   "metadata": {
    "metadata": {}
   },
   "outputs": [
    {
     "name": "stdout",
     "output_type": "stream",
     "text": [
      "                 time    lon   lat  rain  lev_x           t  lev_y       q  \\\n",
      "0 2024-04-23 00:00:00  106.0  21.0   0.0   1000  298.949993   1000  19.411   \n",
      "1 2024-04-23 03:00:00  106.0  21.0   0.5   1000  300.099993   1000  18.890   \n",
      "2 2024-04-23 06:00:00  106.0  21.0   1.3   1000  301.399993   1000  19.011   \n",
      "3 2024-04-23 09:00:00  106.0  21.0   1.8   1000  300.119993   1000  16.879   \n",
      "4 2024-04-23 12:00:00  106.0  21.0   2.8   1000  298.729993   1000  15.971   \n",
      "\n",
      "   lev_o3      o3           ps       pm2_5  \n",
      "0     100  0.0002  1005.999994   74.908024  \n",
      "1     100  0.0003  1007.349994  190.142861  \n",
      "2     100  0.0002  1005.629994  146.398788  \n",
      "3     100  0.0002  1003.269994  119.731697  \n",
      "4     100  0.0002  1004.739994   31.203728  \n"
     ]
    }
   ],
   "source": [
    "np.random.seed(42)  # Setting a seed for reproducibility\n",
    "all_data_df['pm2_5'] = np.random.uniform(0, 200, size=len(all_data_df))\n",
    "\n",
    "# Print the first few rows of the DataFrame to verify\n",
    "print(all_data_df.head())"
   ]
  },
  {
   "cell_type": "code",
   "execution_count": 20,
   "metadata": {
    "metadata": {}
   },
   "outputs": [
    {
     "name": "stdout",
     "output_type": "stream",
     "text": [
      "Root Mean Squared Error: 49.482602895250295\n"
     ]
    }
   ],
   "source": [
    "import xgboost as xgb\n",
    "from sklearn.model_selection import train_test_split\n",
    "from sklearn.metrics import mean_squared_error\n",
    "\n",
    "all_data_df.fillna(all_data_df.mean(), inplace=True)  # Replace missing values with column means\n",
    "X = all_data_df[['t', 'q', 'rain', 'o3', 'ps']]\n",
    "Y = all_data_df['pm2_5']\n",
    "#Spliting the data\n",
    "X_train, X_test, Y_train, Y_test = train_test_split(X, Y, test_size=0.2, random_state=42)\n",
    "\n",
    "XGB_model = xgb.XGBRegressor(objective='reg:squarederror', n_estimators=100, max_depth=6, learning_rate=0.1)\n",
    "XGB_model.fit(X_train, Y_train)\n",
    "\n",
    "Y_pred = XGB_model.predict(X_test)\n",
    "\n",
    "rmse = np.sqrt(mean_squared_error(Y_test, Y_pred))\n",
    "print(\"Root Mean Squared Error:\", rmse)"
   ]
  },
  {
   "cell_type": "code",
   "execution_count": 21,
   "metadata": {
    "metadata": {}
   },
   "outputs": [
    {
     "name": "stdout",
     "output_type": "stream",
     "text": [
      "Root Mean Squared Error: 42.06030345659135\n"
     ]
    }
   ],
   "source": [
    "from sklearn.linear_model import LinearRegression\n",
    "LR_model = LinearRegression()\n",
    "LR_model.fit(X_train, Y_train)\n",
    "Y_pred = LR_model.predict(X_test)\n",
    "rmse = np.sqrt(mean_squared_error(Y_test, Y_pred))\n",
    "print(\"Root Mean Squared Error:\", rmse)"
   ]
  },
  {
   "cell_type": "code",
   "execution_count": 22,
   "metadata": {
    "metadata": {}
   },
   "outputs": [
    {
     "name": "stdout",
     "output_type": "stream",
     "text": [
      "Root Mean Squared Error: 48.77940475721062\n"
     ]
    }
   ],
   "source": [
    "from sklearn.ensemble import ExtraTreesRegressor\n",
    "extra_tree_model = ExtraTreesRegressor(n_estimators=100, random_state=42)\n",
    "extra_tree_model.fit(X_train, Y_train)\n",
    "Y_pred = extra_tree_model.predict(X_test)\n",
    "rmse = np.sqrt(mean_squared_error(Y_test, Y_pred))\n",
    "print(\"Root Mean Squared Error:\", rmse)"
   ]
  },
  {
   "cell_type": "code",
   "execution_count": 23,
   "metadata": {
    "metadata": {}
   },
   "outputs": [
    {
     "name": "stdout",
     "output_type": "stream",
     "text": [
      "Root Mean Squared Error: 36.82960968164056\n"
     ]
    }
   ],
   "source": [
    "from sklearn.linear_model import Lasso\n",
    "lasso_model = Lasso(alpha=0.1)\n",
    "lasso_model.fit(X_train, Y_train)\n",
    "Y_pred = lasso_model.predict(X_test)\n",
    "rmse = np.sqrt(mean_squared_error(Y_test, Y_pred))\n",
    "print(\"Root Mean Squared Error:\", rmse)"
   ]
  },
  {
   "cell_type": "code",
   "execution_count": 24,
   "metadata": {
    "metadata": {}
   },
   "outputs": [
    {
     "name": "stdout",
     "output_type": "stream",
     "text": [
      "Root Mean Squared Error: 29.796787631512743\n"
     ]
    }
   ],
   "source": [
    "from sklearn.ensemble import RandomForestRegressor\n",
    "rf_model = RandomForestRegressor(n_estimators=100, random_state=42)\n",
    "rf_model.fit(X_train, Y_train)\n",
    "Y_pred = rf_model.predict(X_test)\n",
    "rmse = np.sqrt(mean_squared_error(Y_test, Y_pred))\n",
    "print(\"Root Mean Squared Error:\", rmse)"
   ]
  }
 ],
 "metadata": {
  "kernelspec": {
   "display_name": "data_visualization",
   "language": "python",
   "name": "python3"
  },
  "language_info": {
   "codemirror_mode": {
    "name": "ipython",
    "version": 3
   },
   "file_extension": ".py",
   "mimetype": "text/x-python",
   "name": "python",
   "nbconvert_exporter": "python",
   "pygments_lexer": "ipython3",
   "version": "3.10.13"
  }
 },
 "nbformat": 4,
 "nbformat_minor": 2
}
